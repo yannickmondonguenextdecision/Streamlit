{
 "cells": [
  {
   "cell_type": "code",
   "execution_count": 1,
   "id": "367477b5-6750-4744-a8be-9e077bc03024",
   "metadata": {},
   "outputs": [],
   "source": [
    "#Source : https://quickstarts.snowflake.com/guide/frosty_llm_chatbot_on_streamlit_snowflake/index.html#1"
   ]
  },
  {
   "cell_type": "code",
   "execution_count": 1,
   "id": "4d11bf3b-8837-4dc0-926e-f929c72e62f7",
   "metadata": {},
   "outputs": [],
   "source": [
    "import tqdm"
   ]
  },
  {
   "cell_type": "markdown",
   "id": "ef98199e",
   "metadata": {},
   "source": [
    "#### Make sure you are running the latest version of conda by running the following command:\n"
   ]
  },
  {
   "cell_type": "code",
   "execution_count": 2,
   "id": "98c656e1",
   "metadata": {},
   "outputs": [
    {
     "name": "stdout",
     "output_type": "stream",
     "text": [
      "Channels:\n",
      " - defaults\n",
      " - conda-forge\n",
      "Platform: win-64\n",
      "Collecting package metadata (repodata.json): ...working... done\n",
      "Solving environment: ...working... done\n",
      "\n",
      "# All requested packages already installed.\n",
      "\n",
      "\n",
      "Note: you may need to restart the kernel to use updated packages.\n"
     ]
    }
   ],
   "source": [
    "conda update -n base conda"
   ]
  },
  {
   "cell_type": "markdown",
   "id": "3072426a-3e04-41dc-8b23-27056d4749e4",
   "metadata": {},
   "source": [
    "#### create a Python 3.11 conda virtual environment"
   ]
  },
  {
   "cell_type": "code",
   "execution_count": null,
   "id": "bf06ea94",
   "metadata": {},
   "outputs": [],
   "source": [
    "conda create --name snowpark-llm-chatbot python=3.11\n"
   ]
  },
  {
   "cell_type": "code",
   "execution_count": null,
   "id": "e2605c94-d856-458d-a4c2-2b393e47ad49",
   "metadata": {},
   "outputs": [],
   "source": [
    "conda install snowflake-snowpark-python \"openai>=1.0.0\"\n"
   ]
  },
  {
   "cell_type": "code",
   "execution_count": 2,
   "id": "14c24221",
   "metadata": {},
   "outputs": [
    {
     "ename": "SyntaxError",
     "evalue": "invalid syntax (1688567261.py, line 1)",
     "output_type": "error",
     "traceback": [
      "\u001b[1;36m  Cell \u001b[1;32mIn[2], line 1\u001b[1;36m\u001b[0m\n\u001b[1;33m    conda activate snowpark-llm-chatbot\u001b[0m\n\u001b[1;37m          ^\u001b[0m\n\u001b[1;31mSyntaxError\u001b[0m\u001b[1;31m:\u001b[0m invalid syntax\n"
     ]
    }
   ],
   "source": [
    "conda activate snowpark-llm-chatbot"
   ]
  },
  {
   "cell_type": "code",
   "execution_count": null,
   "id": "277b4db3-8718-4206-922b-6d1b56b566a6",
   "metadata": {},
   "outputs": [],
   "source": [
    "conda install conda-forge::\"streamlit>=1.28.2\""
   ]
  }
 ],
 "metadata": {
  "kernelspec": {
   "display_name": "Python 3 (ipykernel)",
   "language": "python",
   "name": "python3"
  },
  "language_info": {
   "codemirror_mode": {
    "name": "ipython",
    "version": 3
   },
   "file_extension": ".py",
   "mimetype": "text/x-python",
   "name": "python",
   "nbconvert_exporter": "python",
   "pygments_lexer": "ipython3",
   "version": "3.9.18"
  }
 },
 "nbformat": 4,
 "nbformat_minor": 5
}
